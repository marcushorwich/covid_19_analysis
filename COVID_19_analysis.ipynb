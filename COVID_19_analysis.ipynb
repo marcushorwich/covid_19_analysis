{
 "cells": [
  {
   "cell_type": "code",
   "execution_count": 1,
   "metadata": {},
   "outputs": [],
   "source": [
    "import os\n",
    "import glob\n",
    "import pandas as pd\n",
    "import numpy as np"
   ]
  },
  {
   "cell_type": "code",
   "execution_count": 2,
   "metadata": {},
   "outputs": [],
   "source": [
    "deaths_url = 'https://raw.githubusercontent.com/CSSEGISandData/COVID-19/master/csse_covid_19_data/csse_covid_19_time_series/time_series_covid19_deaths_global.csv'"
   ]
  },
  {
   "cell_type": "code",
   "execution_count": 3,
   "metadata": {},
   "outputs": [],
   "source": [
    "deaths = pd.read_csv(deaths_url)"
   ]
  },
  {
   "cell_type": "code",
   "execution_count": 4,
   "metadata": {},
   "outputs": [],
   "source": [
    "deaths = pd.melt(deaths, id_vars=['Country/Region', 'Lat', 'Long', 'Province/State'], \n",
    "                var_name = 'Date', \n",
    "                value_name = 'Deaths'\n",
    "       )"
   ]
  },
  {
   "cell_type": "code",
   "execution_count": 5,
   "metadata": {},
   "outputs": [
    {
     "data": {
      "text/html": [
       "<div>\n",
       "<style scoped>\n",
       "    .dataframe tbody tr th:only-of-type {\n",
       "        vertical-align: middle;\n",
       "    }\n",
       "\n",
       "    .dataframe tbody tr th {\n",
       "        vertical-align: top;\n",
       "    }\n",
       "\n",
       "    .dataframe thead th {\n",
       "        text-align: right;\n",
       "    }\n",
       "</style>\n",
       "<table border=\"1\" class=\"dataframe\">\n",
       "  <thead>\n",
       "    <tr style=\"text-align: right;\">\n",
       "      <th></th>\n",
       "      <th>Country/Region</th>\n",
       "      <th>Lat</th>\n",
       "      <th>Long</th>\n",
       "      <th>Province/State</th>\n",
       "      <th>Date</th>\n",
       "      <th>Deaths</th>\n",
       "    </tr>\n",
       "  </thead>\n",
       "  <tbody>\n",
       "    <tr>\n",
       "      <th>0</th>\n",
       "      <td>Afghanistan</td>\n",
       "      <td>33.0000</td>\n",
       "      <td>65.0000</td>\n",
       "      <td>NaN</td>\n",
       "      <td>1/22/20</td>\n",
       "      <td>0</td>\n",
       "    </tr>\n",
       "    <tr>\n",
       "      <th>1</th>\n",
       "      <td>Albania</td>\n",
       "      <td>41.1533</td>\n",
       "      <td>20.1683</td>\n",
       "      <td>NaN</td>\n",
       "      <td>1/22/20</td>\n",
       "      <td>0</td>\n",
       "    </tr>\n",
       "    <tr>\n",
       "      <th>2</th>\n",
       "      <td>Algeria</td>\n",
       "      <td>28.0339</td>\n",
       "      <td>1.6596</td>\n",
       "      <td>NaN</td>\n",
       "      <td>1/22/20</td>\n",
       "      <td>0</td>\n",
       "    </tr>\n",
       "    <tr>\n",
       "      <th>3</th>\n",
       "      <td>Andorra</td>\n",
       "      <td>42.5063</td>\n",
       "      <td>1.5218</td>\n",
       "      <td>NaN</td>\n",
       "      <td>1/22/20</td>\n",
       "      <td>0</td>\n",
       "    </tr>\n",
       "    <tr>\n",
       "      <th>4</th>\n",
       "      <td>Angola</td>\n",
       "      <td>-11.2027</td>\n",
       "      <td>17.8739</td>\n",
       "      <td>NaN</td>\n",
       "      <td>1/22/20</td>\n",
       "      <td>0</td>\n",
       "    </tr>\n",
       "  </tbody>\n",
       "</table>\n",
       "</div>"
      ],
      "text/plain": [
       "  Country/Region      Lat     Long Province/State     Date  Deaths\n",
       "0    Afghanistan  33.0000  65.0000            NaN  1/22/20       0\n",
       "1        Albania  41.1533  20.1683            NaN  1/22/20       0\n",
       "2        Algeria  28.0339   1.6596            NaN  1/22/20       0\n",
       "3        Andorra  42.5063   1.5218            NaN  1/22/20       0\n",
       "4         Angola -11.2027  17.8739            NaN  1/22/20       0"
      ]
     },
     "execution_count": 5,
     "metadata": {},
     "output_type": "execute_result"
    }
   ],
   "source": [
    "deaths.head()"
   ]
  },
  {
   "cell_type": "markdown",
   "metadata": {},
   "source": [
    "convert the date column into a `datetime` object"
   ]
  },
  {
   "cell_type": "code",
   "execution_count": 6,
   "metadata": {},
   "outputs": [],
   "source": [
    "deaths['Date'] = pd.to_datetime(deaths['Date'])"
   ]
  },
  {
   "cell_type": "markdown",
   "metadata": {},
   "source": [
    "sort by date"
   ]
  },
  {
   "cell_type": "code",
   "execution_count": 7,
   "metadata": {},
   "outputs": [],
   "source": [
    "deaths = deaths.sort_values(by=['Date'])"
   ]
  },
  {
   "cell_type": "code",
   "execution_count": 8,
   "metadata": {},
   "outputs": [
    {
     "data": {
      "text/html": [
       "<div>\n",
       "<style scoped>\n",
       "    .dataframe tbody tr th:only-of-type {\n",
       "        vertical-align: middle;\n",
       "    }\n",
       "\n",
       "    .dataframe tbody tr th {\n",
       "        vertical-align: top;\n",
       "    }\n",
       "\n",
       "    .dataframe thead th {\n",
       "        text-align: right;\n",
       "    }\n",
       "</style>\n",
       "<table border=\"1\" class=\"dataframe\">\n",
       "  <thead>\n",
       "    <tr style=\"text-align: right;\">\n",
       "      <th></th>\n",
       "      <th>Country/Region</th>\n",
       "      <th>Lat</th>\n",
       "      <th>Long</th>\n",
       "      <th>Province/State</th>\n",
       "      <th>Date</th>\n",
       "      <th>Deaths</th>\n",
       "    </tr>\n",
       "  </thead>\n",
       "  <tbody>\n",
       "    <tr>\n",
       "      <th>0</th>\n",
       "      <td>Afghanistan</td>\n",
       "      <td>33.0000</td>\n",
       "      <td>65.0000</td>\n",
       "      <td>NaN</td>\n",
       "      <td>2020-01-22</td>\n",
       "      <td>0</td>\n",
       "    </tr>\n",
       "    <tr>\n",
       "      <th>167</th>\n",
       "      <td>Netherlands</td>\n",
       "      <td>12.1696</td>\n",
       "      <td>-68.9900</td>\n",
       "      <td>Curacao</td>\n",
       "      <td>2020-01-22</td>\n",
       "      <td>0</td>\n",
       "    </tr>\n",
       "    <tr>\n",
       "      <th>168</th>\n",
       "      <td>Netherlands</td>\n",
       "      <td>18.0425</td>\n",
       "      <td>-63.0548</td>\n",
       "      <td>Sint Maarten</td>\n",
       "      <td>2020-01-22</td>\n",
       "      <td>0</td>\n",
       "    </tr>\n",
       "    <tr>\n",
       "      <th>169</th>\n",
       "      <td>Netherlands</td>\n",
       "      <td>52.1326</td>\n",
       "      <td>5.2913</td>\n",
       "      <td>NaN</td>\n",
       "      <td>2020-01-22</td>\n",
       "      <td>0</td>\n",
       "    </tr>\n",
       "    <tr>\n",
       "      <th>170</th>\n",
       "      <td>New Zealand</td>\n",
       "      <td>-40.9006</td>\n",
       "      <td>174.8860</td>\n",
       "      <td>NaN</td>\n",
       "      <td>2020-01-22</td>\n",
       "      <td>0</td>\n",
       "    </tr>\n",
       "  </tbody>\n",
       "</table>\n",
       "</div>"
      ],
      "text/plain": [
       "    Country/Region      Lat      Long Province/State       Date  Deaths\n",
       "0      Afghanistan  33.0000   65.0000            NaN 2020-01-22       0\n",
       "167    Netherlands  12.1696  -68.9900        Curacao 2020-01-22       0\n",
       "168    Netherlands  18.0425  -63.0548   Sint Maarten 2020-01-22       0\n",
       "169    Netherlands  52.1326    5.2913            NaN 2020-01-22       0\n",
       "170    New Zealand -40.9006  174.8860            NaN 2020-01-22       0"
      ]
     },
     "execution_count": 8,
     "metadata": {},
     "output_type": "execute_result"
    }
   ],
   "source": [
    "deaths.head()"
   ]
  },
  {
   "cell_type": "code",
   "execution_count": 9,
   "metadata": {},
   "outputs": [],
   "source": [
    "wide = (\n",
    "deaths.\n",
    "groupby(['Country/Region','Date'])['Deaths'].sum().\n",
    "unstack('Country/Region').\n",
    "reset_index()\n",
    ")"
   ]
  },
  {
   "cell_type": "code",
   "execution_count": 10,
   "metadata": {},
   "outputs": [],
   "source": [
    "wide['formatted_date'] = wide['Date'].apply(lambda d: d.strftime('%Y-%m-%d'))"
   ]
  },
  {
   "cell_type": "markdown",
   "metadata": {},
   "source": [
    "## Index from $N^{th}$ death"
   ]
  },
  {
   "cell_type": "code",
   "execution_count": 17,
   "metadata": {},
   "outputs": [],
   "source": [
    "from bokeh.io import output_file, show\n",
    "from bokeh.layouts import row\n",
    "from bokeh.models import CustomJS, MultiSelect, ColumnDataSource\n",
    "from bokeh.plotting import figure\n",
    "from bokeh.palettes import inferno\n",
    "\n",
    "N=100 \n",
    "\n",
    "output_file(\"index.html\", title=f\"COVID-19_analysis_from_{N}th_death\")\n",
    "\n",
    "\n",
    "\n",
    "#get list of all countries from column name, we don't want the date columns\n",
    "countries = wide.columns.unique().drop(['Date', 'formatted_date'])\n",
    "\n",
    "#store the data for each country\n",
    "sources = dict.fromkeys(countries)\n",
    "\n",
    "TOOLTIPS = [\n",
    "    (\"index\", \"$index\"),\n",
    "    (\"(Day,Deaths)\", \"(@index, $y{int})\"),\n",
    "    (\"country\", \"$name\"),\n",
    "]\n",
    "\n",
    "#create colour palette\n",
    "colours = inferno(len(countries))\n",
    "\n",
    "p = figure(title=f\"COVID-19 Deaths (from {N}th Death)\",\n",
    "           y_axis_type='log',\n",
    "              tools=\"crosshair,pan,reset,save,wheel_zoom\", tooltips=TOOLTIPS, \n",
    "          plot_width=1000, plot_height=600)\n",
    "    \n",
    "    \n",
    "props = dict(line_width=4, line_alpha=0.7, visible=False)\n",
    "\n",
    "line_glyphs = dict.fromkeys(countries)\n",
    "scatter_glyphs = dict.fromkeys(countries)\n",
    "\n",
    "for idx, country in enumerate(countries):\n",
    "    df = wide[['Date', country]]\n",
    "    df = df[df[country]>=N]\n",
    "    df.loc[:,'index'] = np.arange(len(df))\n",
    "    sources[country] = ColumnDataSource(df)\n",
    "    line_glyphs[country] = p.line(x='index', y=country, source=sources[country], \n",
    "                                  name=country, color=colours[idx], **props)\n",
    "    scatter_glyphs[country] = p.scatter(x='index', y=country, source=sources[country], \n",
    "                                  name=country, color=colours[idx], size=10, visible = False)\n",
    "\n",
    "\n",
    "pre_selected = ['United Kingdom', 'US']\n",
    "for c in pre_selected:\n",
    "    line_glyphs[c].visible = True\n",
    "    scatter_glyphs[c].visible = True\n",
    "\n",
    "opts = [(str(x), str(x)) for x in line_glyphs]\n",
    "multi_select = MultiSelect(title=\"Select multiple countries using ctrl or cmd:\", value=pre_selected,\n",
    "                           options=opts, height=500)\n",
    "\n",
    "\n",
    "\n",
    "\n",
    "select_callback = CustomJS(args=dict(line_glyphs=line_glyphs, scatter_glyphs=scatter_glyphs,\n",
    "                                     multi_select=multi_select), code=\"\"\"\n",
    "\n",
    "//console.log(multi_select.value);\n",
    "//console.log(glyphs[multi_select.value]);\n",
    "//glyphs[multi_select.value].visible = true\n",
    "\n",
    "//multi_select.value.forEach(element => console.log(element));\n",
    "\n",
    "for(var index in line_glyphs) {\n",
    "  line_glyphs[index].visible = false;\n",
    "  scatter_glyphs[index].visible = false;\n",
    "  \n",
    "}\n",
    "\n",
    "multi_select.value.forEach(element => line_glyphs[element].visible = true);\n",
    "multi_select.value.forEach(element => scatter_glyphs[element].visible = true);\n",
    "\"\"\")\n",
    "\n",
    "multi_select.js_on_change('value', select_callback)\n",
    "\n",
    "layout = row(p, multi_select)\n",
    "show(layout)"
   ]
  },
  {
   "cell_type": "code",
   "execution_count": null,
   "metadata": {},
   "outputs": [],
   "source": []
  }
 ],
 "metadata": {
  "kernelspec": {
   "display_name": "Python 3",
   "language": "python",
   "name": "python3"
  },
  "language_info": {
   "codemirror_mode": {
    "name": "ipython",
    "version": 3
   },
   "file_extension": ".py",
   "mimetype": "text/x-python",
   "name": "python",
   "nbconvert_exporter": "python",
   "pygments_lexer": "ipython3",
   "version": "3.7.3"
  }
 },
 "nbformat": 4,
 "nbformat_minor": 4
}
